{
  "cells": [
    {
      "cell_type": "markdown",
      "metadata": {
        "id": "view-in-github",
        "colab_type": "text"
      },
      "source": [
        "<a href=\"https://colab.research.google.com/github/Torresas/Python-Prep/blob/main/content/es/docencia/python/ejercicios/soluciones/tipos-datos/ejercicio1.ipynb\" target=\"_parent\"><img src=\"https://colab.research.google.com/assets/colab-badge.svg\" alt=\"Open In Colab\"/></a>"
      ]
    },
    {
      "cell_type": "markdown",
      "metadata": {
        "id": "CTkuPz_7V0AY"
      },
      "source": [
        "## Solución"
      ]
    },
    {
      "cell_type": "code",
      "execution_count": 5,
      "metadata": {
        "id": "TIctGrpaV0AY",
        "outputId": "774100bb-5644-4e2a-ebec-15f84897775e",
        "colab": {
          "base_uri": "https://localhost:8080/"
        }
      },
      "outputs": [
        {
          "output_type": "stream",
          "name": "stdout",
          "text": [
            "¡Hola Mundo!\n"
          ]
        }
      ],
      "source": [
        "print(\"Hola juanjo, como estas?\")"
      ]
    },
    {
      "cell_type": "code",
      "source": [
        "cadena = \"Hola, como estas??\"\n",
        "\n",
        "print(cadena)"
      ],
      "metadata": {
        "id": "xZOhYiY6V_29",
        "outputId": "8a7e05d2-44a9-46e9-bec1-e27a8330cf35",
        "colab": {
          "base_uri": "https://localhost:8080/"
        }
      },
      "execution_count": 8,
      "outputs": [
        {
          "output_type": "stream",
          "name": "stdout",
          "text": [
            "Hola, como estas??\n"
          ]
        }
      ]
    },
    {
      "cell_type": "code",
      "source": [
        "nombre = input(\"Hola, podrías ingresar tu nombre?\")\n",
        "\n",
        "print(\"Hola\" , nombre , \", como estas?\")"
      ],
      "metadata": {
        "id": "ChCKeCLuWRgi",
        "outputId": "a01b3b18-1c8c-47a6-8fa7-366c2c12ed42",
        "colab": {
          "base_uri": "https://localhost:8080/"
        }
      },
      "execution_count": 17,
      "outputs": [
        {
          "output_type": "stream",
          "name": "stdout",
          "text": [
            "Hola, podrías ingresar tu nombre?Juan\n",
            "Hola Juan , como estas?\n"
          ]
        }
      ]
    },
    {
      "cell_type": "code",
      "source": [
        "Resultado = ( (3 + 2) / ( 2 * 5))**2\n",
        "\n",
        "print(Resultado)"
      ],
      "metadata": {
        "id": "byEyB6nRYych",
        "outputId": "72f6a341-315d-4985-c8fa-e5517a15ee96",
        "colab": {
          "base_uri": "https://localhost:8080/"
        }
      },
      "execution_count": 24,
      "outputs": [
        {
          "output_type": "stream",
          "name": "stdout",
          "text": [
            "0.25\n"
          ]
        }
      ]
    },
    {
      "cell_type": "code",
      "source": [
        "Horas = float(input(\"Ingrese el numero de horas trabajadas\"))\n",
        "Pago = float(input(\"ingrese el monto de pago por hora\"))\n",
        "Total = Horas * Pago\n",
        "\n",
        "print(\"El monto que le pagan es de,\", Total)"
      ],
      "metadata": {
        "id": "P5n4UATyaWbJ",
        "outputId": "18e7368a-aa5d-4a85-8ceb-0175d6f06321",
        "colab": {
          "base_uri": "https://localhost:8080/"
        }
      },
      "execution_count": 27,
      "outputs": [
        {
          "output_type": "stream",
          "name": "stdout",
          "text": [
            "Ingrese el numero de horas trabajadas 8\n",
            "ingrese el monto de pago por hora 9\n",
            "El monto que le pagan es de, 72.0\n"
          ]
        }
      ]
    },
    {
      "cell_type": "code",
      "source": [
        "n = float(input(\"Ingrese un numero entero\"))\n",
        "proceso = n * ((n + 1) / 2)\n",
        "\n",
        "print(proceso)"
      ],
      "metadata": {
        "id": "8dKGs6HQbRMd",
        "outputId": "d196ae93-472d-4a01-e64b-b76d67b9ebed",
        "colab": {
          "base_uri": "https://localhost:8080/"
        }
      },
      "execution_count": 32,
      "outputs": [
        {
          "output_type": "stream",
          "name": "stdout",
          "text": [
            "Ingrese un numero entero8\n",
            "36.0\n"
          ]
        }
      ]
    },
    {
      "cell_type": "code",
      "source": [
        "peso = input(\"Ingrese tu peso en kg \")\n",
        "estatura = input(\"Ingresa tu estatura en metros\")\n",
        "imc = (float(peso)/float(estatura)**2,2)\n",
        "print(\"Tu indice de masa corporal es de\", imc)\n"
      ],
      "metadata": {
        "id": "xKvTvMCCcMxg",
        "outputId": "7901fcb1-5f8a-4010-a2ca-d201456c6073",
        "colab": {
          "base_uri": "https://localhost:8080/"
        }
      },
      "execution_count": 35,
      "outputs": [
        {
          "output_type": "stream",
          "name": "stdout",
          "text": [
            "¿Cuál es tu peso en kg? 50\n",
            "¿Cuál es tu estatura en metros?1.71\n",
            "Tu indice de masa corporal es de (17.09927841045108, 2)\n"
          ]
        }
      ]
    },
    {
      "cell_type": "code",
      "source": [
        "n = input(\"ingresa el numero) \")\n",
        "m = input(\"ingrese otro numero\")\n",
        "print(n + \" entre \",  m ,\" da un cociente \", str(int(n) // int(m)) ,\" y un resto \" , str(int(n) % int(m)))"
      ],
      "metadata": {
        "id": "7lgYSyI5imGs"
      },
      "execution_count": null,
      "outputs": []
    },
    {
      "cell_type": "code",
      "source": [
        "cantidad = float(input(\"Cual es su cantidad a invertir\"))\n",
        "interes = float(input(\"El interes anual? \"))\n",
        "años = int(input(\"Y a cuantos años?\"))\n",
        "print(\"capital final \" + str(round(cantidad * (interes / 100 + 1) ** años, 2)))"
      ],
      "metadata": {
        "id": "zVpc-umbjC9F",
        "outputId": "ff23197e-fde5-4887-859a-b22f375ffcf0",
        "colab": {
          "base_uri": "https://localhost:8080/"
        }
      },
      "execution_count": 36,
      "outputs": [
        {
          "output_type": "stream",
          "name": "stdout",
          "text": [
            "Cual es su cantidad a invertir100\n",
            "El interes anual? 200\n",
            "Y a cuantos años?5\n",
            "capital final 24300.0\n"
          ]
        }
      ]
    },
    {
      "cell_type": "code",
      "source": [
        "peso_p = 112\n",
        "peso_mu = 75\n",
        "payasos = int(input(\"ingrese el número de payasos\"))\n",
        "muñecas = int(input(\"ingrese el número de muñecas\"))\n",
        "peso_total = peso_p * payasos + peso_mu * muñecas\n",
        "print(\"el total del peso es \" + str(peso_total))"
      ],
      "metadata": {
        "id": "6AxLLnPYjliY"
      },
      "execution_count": null,
      "outputs": []
    },
    {
      "cell_type": "code",
      "source": [
        "inversion = float(input(\"ingrese la inversion total\"))\n",
        "interes = 0.04\n",
        "balance1 = inversion * (1 + interes)\n",
        "print(\"primer año\" + str(round(balance1, 2)))\n",
        "balance2 = balance1 * (1 + interes)\n",
        "print(\"segundo año:\" + str(round(balance2, 2)))\n",
        "balance3 = balance2 * (1 + interes)\n",
        "print(\"tercer año:\" + str(round(balance3, 2)))"
      ],
      "metadata": {
        "id": "lyimKhUmj55n"
      },
      "execution_count": null,
      "outputs": []
    },
    {
      "cell_type": "code",
      "source": [
        "barras = int(input(\"Cual es el número de barras vendidas que no frescas\"))\n",
        "precio = 3.49\n",
        "descuento = 0.6\n",
        "coste = barras * precio * (1 - descuento)\n",
        "print(\"El valor de una barra fresca es \" + str(precio) + \"€\")\n",
        "print(\"El valor de un descuento de una barra no fresca es\" + str(descuento * 100) + \"%\")\n",
        "print(\"El total es  \" + str(round(coste, 2)) + \"€\")"
      ],
      "metadata": {
        "id": "XURhmV0YkCVb"
      },
      "execution_count": null,
      "outputs": []
    }
  ],
  "metadata": {
    "kernelspec": {
      "display_name": "Python 3",
      "language": "python",
      "name": "python3"
    },
    "language_info": {
      "codemirror_mode": {
        "name": "ipython",
        "version": 3
      },
      "file_extension": ".py",
      "mimetype": "text/x-python",
      "name": "python",
      "nbconvert_exporter": "python",
      "pygments_lexer": "ipython3",
      "version": "3.7.1"
    },
    "colab": {
      "provenance": [],
      "include_colab_link": true
    }
  },
  "nbformat": 4,
  "nbformat_minor": 0
}