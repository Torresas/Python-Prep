{
  "cells": [
    {
      "cell_type": "markdown",
      "metadata": {
        "id": "ySzWDQHoUX17"
      },
      "source": [
        "## Ejercicio\n",
        "Escribir un programa que muestre por pantalla la frase `¡Hola mundo!`"
      ]
    },
    {
      "cell_type": "code",
      "execution_count": null,
      "metadata": {
        "id": "fzx3KhimUX18"
      },
      "outputs": [],
      "source": [
        "print(\"Hola Juanjo, como estas?\")"
      ]
    }
  ],
  "metadata": {
    "kernelspec": {
      "display_name": "Python 3",
      "language": "python",
      "name": "python3"
    },
    "language_info": {
      "codemirror_mode": {
        "name": "ipython",
        "version": 3
      },
      "file_extension": ".py",
      "mimetype": "text/x-python",
      "name": "python",
      "nbconvert_exporter": "python",
      "pygments_lexer": "ipython3",
      "version": "3.7.1"
    },
    "colab": {
      "provenance": []
    }
  },
  "nbformat": 4,
  "nbformat_minor": 0
}